{
 "cells": [
  {
   "cell_type": "code",
   "execution_count": 39,
   "metadata": {},
   "outputs": [
    {
     "name": "stdout",
     "output_type": "stream",
     "text": [
      "showing info https://raw.githubusercontent.com/nltk/nltk_data/gh-pages/index.xml\n"
     ]
    },
    {
     "data": {
      "text/plain": [
       "True"
      ]
     },
     "execution_count": 39,
     "metadata": {},
     "output_type": "execute_result"
    }
   ],
   "source": [
    "import pandas as pd\n",
    "import numpy as np\n",
    "import tensorflow as tf\n",
    "from tensorflow import keras\n",
    "import nltk\n",
    "nltk.download()"
   ]
  },
  {
   "cell_type": "code",
   "execution_count": 40,
   "metadata": {
    "scrolled": true
   },
   "outputs": [
    {
     "name": "stdout",
     "output_type": "stream",
     "text": [
      "Requirement already satisfied: scikit-learn in /anaconda3/envs/amazon-nlp-env/lib/python3.7/site-packages (0.21.2)\n",
      "Requirement already satisfied: numpy>=1.11.0 in /anaconda3/envs/amazon-nlp-env/lib/python3.7/site-packages (from scikit-learn) (1.16.4)\n",
      "Requirement already satisfied: joblib>=0.11 in /anaconda3/envs/amazon-nlp-env/lib/python3.7/site-packages (from scikit-learn) (0.13.2)\n",
      "Requirement already satisfied: scipy>=0.17.0 in /anaconda3/envs/amazon-nlp-env/lib/python3.7/site-packages (from scikit-learn) (1.3.0)\n"
     ]
    }
   ],
   "source": [
    "%%bash\n",
    "pip install scikit-learn"
   ]
  },
  {
   "cell_type": "code",
   "execution_count": 41,
   "metadata": {},
   "outputs": [],
   "source": [
    "trainData = pd.read_csv('./data/amazon_review_full_csv/train.csv', header=None, names=['rating', 'title', 'review'])"
   ]
  },
  {
   "cell_type": "code",
   "execution_count": 42,
   "metadata": {},
   "outputs": [],
   "source": [
    "# testData = pd.read_csv('./data/amazon_review_full_csv/test.csv', header=None, names= ['rating', 'title', 'review'])"
   ]
  },
  {
   "cell_type": "code",
   "execution_count": 43,
   "metadata": {},
   "outputs": [
    {
     "data": {
      "text/html": [
       "<div>\n",
       "<style scoped>\n",
       "    .dataframe tbody tr th:only-of-type {\n",
       "        vertical-align: middle;\n",
       "    }\n",
       "\n",
       "    .dataframe tbody tr th {\n",
       "        vertical-align: top;\n",
       "    }\n",
       "\n",
       "    .dataframe thead th {\n",
       "        text-align: right;\n",
       "    }\n",
       "</style>\n",
       "<table border=\"1\" class=\"dataframe\">\n",
       "  <thead>\n",
       "    <tr style=\"text-align: right;\">\n",
       "      <th></th>\n",
       "      <th>rating</th>\n",
       "      <th>title</th>\n",
       "      <th>review</th>\n",
       "    </tr>\n",
       "  </thead>\n",
       "  <tbody>\n",
       "    <tr>\n",
       "      <th>0</th>\n",
       "      <td>3</td>\n",
       "      <td>more like funchuck</td>\n",
       "      <td>Gave this to my dad for a gag gift after direc...</td>\n",
       "    </tr>\n",
       "    <tr>\n",
       "      <th>1</th>\n",
       "      <td>5</td>\n",
       "      <td>Inspiring</td>\n",
       "      <td>I hope a lot of people hear this cd. We need m...</td>\n",
       "    </tr>\n",
       "    <tr>\n",
       "      <th>2</th>\n",
       "      <td>5</td>\n",
       "      <td>The best soundtrack ever to anything.</td>\n",
       "      <td>I'm reading a lot of reviews saying that this ...</td>\n",
       "    </tr>\n",
       "    <tr>\n",
       "      <th>3</th>\n",
       "      <td>4</td>\n",
       "      <td>Chrono Cross OST</td>\n",
       "      <td>The music of Yasunori Misuda is without questi...</td>\n",
       "    </tr>\n",
       "    <tr>\n",
       "      <th>4</th>\n",
       "      <td>5</td>\n",
       "      <td>Too good to be true</td>\n",
       "      <td>Probably the greatest soundtrack in history! U...</td>\n",
       "    </tr>\n",
       "    <tr>\n",
       "      <th>5</th>\n",
       "      <td>5</td>\n",
       "      <td>There's a reason for the price</td>\n",
       "      <td>There's a reason this CD is so expensive, even...</td>\n",
       "    </tr>\n",
       "    <tr>\n",
       "      <th>6</th>\n",
       "      <td>1</td>\n",
       "      <td>Buyer beware</td>\n",
       "      <td>This is a self-published book, and if you want...</td>\n",
       "    </tr>\n",
       "    <tr>\n",
       "      <th>7</th>\n",
       "      <td>4</td>\n",
       "      <td>Errors, but great story</td>\n",
       "      <td>I was a dissapointed to see errors on the back...</td>\n",
       "    </tr>\n",
       "    <tr>\n",
       "      <th>8</th>\n",
       "      <td>1</td>\n",
       "      <td>The Worst!</td>\n",
       "      <td>A complete waste of time. Typographical errors...</td>\n",
       "    </tr>\n",
       "    <tr>\n",
       "      <th>9</th>\n",
       "      <td>1</td>\n",
       "      <td>Oh please</td>\n",
       "      <td>I guess you have to be a romance novel lover f...</td>\n",
       "    </tr>\n",
       "  </tbody>\n",
       "</table>\n",
       "</div>"
      ],
      "text/plain": [
       "   rating                                  title  \\\n",
       "0       3                     more like funchuck   \n",
       "1       5                              Inspiring   \n",
       "2       5  The best soundtrack ever to anything.   \n",
       "3       4                       Chrono Cross OST   \n",
       "4       5                    Too good to be true   \n",
       "5       5         There's a reason for the price   \n",
       "6       1                           Buyer beware   \n",
       "7       4                Errors, but great story   \n",
       "8       1                             The Worst!   \n",
       "9       1                              Oh please   \n",
       "\n",
       "                                              review  \n",
       "0  Gave this to my dad for a gag gift after direc...  \n",
       "1  I hope a lot of people hear this cd. We need m...  \n",
       "2  I'm reading a lot of reviews saying that this ...  \n",
       "3  The music of Yasunori Misuda is without questi...  \n",
       "4  Probably the greatest soundtrack in history! U...  \n",
       "5  There's a reason this CD is so expensive, even...  \n",
       "6  This is a self-published book, and if you want...  \n",
       "7  I was a dissapointed to see errors on the back...  \n",
       "8  A complete waste of time. Typographical errors...  \n",
       "9  I guess you have to be a romance novel lover f...  "
      ]
     },
     "execution_count": 43,
     "metadata": {},
     "output_type": "execute_result"
    }
   ],
   "source": [
    "trainData.head(10)"
   ]
  },
  {
   "cell_type": "code",
   "execution_count": 44,
   "metadata": {},
   "outputs": [],
   "source": [
    "reviews = trainData.review.get_values()"
   ]
  },
  {
   "cell_type": "code",
   "execution_count": 45,
   "metadata": {},
   "outputs": [],
   "source": [
    "# trainData.head(10).get_values()"
   ]
  },
  {
   "cell_type": "code",
   "execution_count": 46,
   "metadata": {},
   "outputs": [],
   "source": [
    "# for column in trainData.head(10)"
   ]
  },
  {
   "cell_type": "code",
   "execution_count": 47,
   "metadata": {},
   "outputs": [],
   "source": [
    "# from nltk.corpus import stopwords\n",
    "# stop_words = set(stopwords.words('english'))\n",
    "# [w for w in trainData.head(10) if w not in stop_words]"
   ]
  },
  {
   "cell_type": "code",
   "execution_count": 48,
   "metadata": {},
   "outputs": [],
   "source": [
    "review_array = []\n",
    "for index in range(0,10):\n",
    "    tokens = nltk.word_tokenize(reviews[index])\n",
    "    review_array.append(tokens)\n",
    "# print(review_array)"
   ]
  },
  {
   "cell_type": "code",
   "execution_count": 49,
   "metadata": {},
   "outputs": [],
   "source": [
    "from nltk.stem import WordNetLemmatizer\n",
    "lemmatizer = WordNetLemmatizer()\n",
    "\n",
    "lemm_array = []\n",
    "for item in review_array:\n",
    "    lemm_review = [ lemmatizer.lemmatize(word) for word in item ]\n",
    "    lemm_array.append(lemm_review)\n",
    "# print(lemm_array)"
   ]
  },
  {
   "cell_type": "code",
   "execution_count": 50,
   "metadata": {},
   "outputs": [
    {
     "name": "stdout",
     "output_type": "stream",
     "text": [
      "[['gave', 'this', 'to', 'my', 'dad', 'for', 'a', 'gag', 'gift', 'after', 'direct', '``', 'nunsens', ',', \"''\", 'he', 'got', 'a', 'reall', 'kick', 'out', 'of', 'it', '!'], ['i', 'hope', 'a', 'lot', 'of', 'peopl', 'hear', 'this', 'cd', '.', 'we', 'need', 'more', 'strong', 'and', 'posit', 'vibe', 'like', 'this', '.', 'great', 'vocal', ',', 'fresh', 'tune', ',', 'cross-cultur', 'happi', '.', 'her', 'blue', 'is', 'from', 'the', 'gut', '.', 'the', 'pop', 'sound', 'are', 'catchi', 'and', 'matur', '.'], ['i', \"'m\", 'read', 'a', 'lot', 'of', 'review', 'say', 'that', 'this', 'is', 'the', 'best', 'game', 'soundtrack', \"'\", 'and', 'i', 'figur', 'that', 'i', \"'d\", 'write', 'a', 'review', 'to', 'disagre', 'a', 'bit', '.', 'this', 'in', 'my', 'opinino', 'is', 'yasunori', 'mitsuda', \"'s\", 'ultim', 'masterpiec', '.', 'the', 'music', 'is', 'timeless', 'and', 'i', \"'m\", 'been', 'listen', 'to', 'it', 'for', 'year', 'now', 'and', 'it', 'beauti', 'simpli', 'refus', 'to', 'fade.th', 'price', 'tag', 'on', 'this', 'is', 'pretti', 'stagger', 'i', 'must', 'say', ',', 'but', 'if', 'you', 'are', 'go', 'to', 'buy', 'ani', 'cd', 'for', 'this', 'much', 'money', ',', 'this', 'is', 'the', 'onli', 'one', 'that', 'i', 'feel', 'would', 'be', 'worth', 'everi', 'penni', '.'], ['the', 'music', 'of', 'yasunori', 'misuda', 'is', 'without', 'question', 'my', 'close', 'second', 'below', 'the', 'great', 'nobuo', 'uematsu.chrono', 'cross', 'ost', 'is', 'a', 'wonder', 'creation', 'fill', 'with', 'rich', 'orchestra', 'and', 'synthes', 'sound', '.', 'while', 'ambianc', 'is', 'one', 'of', 'the', 'music', \"'s\", 'major', 'factor', ',', 'yet', 'at', 'time', 'it', \"'s\", 'veri', 'uplift', 'and', 'vigor', '.', 'some', 'of', 'my', 'favourit', 'track', 'includ', ';', '``', 'scar', 'left', 'by', 'time', ',', 'the', 'girl', 'who', 'stole', 'the', 'star', ',', 'and', 'anoth', 'world', \"''\", '.'], ['probabl', 'the', 'greatest', 'soundtrack', 'in', 'histori', '!', 'usual', 'it', \"'s\", 'better', 'to', 'have', 'play', 'the', 'game', 'first', 'but', 'this', 'is', 'so', 'enjoy', 'anyway', '!', 'i', 'work', 'so', 'hard', 'get', 'this', 'soundtrack', 'and', 'after', 'spend', '[', 'money', ']', 'to', 'get', 'it', 'it', 'wa', 'realli', 'worth', 'everi', 'penni', '!', '!', 'get', 'this', 'ost', '!', 'it', \"'s\", 'amaz', '!', 'the', 'first', 'few', 'track', 'will', 'have', 'you', 'danc', 'around', 'with', 'delight', '(', 'especi', 'scar', 'left', 'by', 'time', ')', '!', '!', 'buy', 'it', 'now', '!', '!'], ['there', \"'s\", 'a', 'reason', 'this', 'cd', 'is', 'so', 'expens', ',', 'even', 'the', 'version', 'that', \"'s\", 'not', 'an', 'import.som', 'of', 'the', 'best', 'music', 'ever', '.', 'i', 'could', 'listen', 'to', 'everi', 'track', 'everi', 'minut', 'of', 'everi', 'day', '.', 'that', \"'s\", 'about', 'all', 'i', 'can', 'say', '.'], ['this', 'is', 'a', 'self-publish', 'book', ',', 'and', 'if', 'you', 'want', 'to', 'know', 'whi', '--', 'read', 'a', 'few', 'paragraph', '!', 'those', '5', 'star', 'review', 'must', 'have', 'been', 'written', 'by', 'ms.', 'haddon', \"'s\", 'famili', 'and', 'friend', '--', 'or', 'perhap', ',', 'by', 'herself', '!', 'i', 'ca', \"n't\", 'imagin', 'anyon', 'read', 'the', 'whole', 'thing', '--', 'i', 'spent', 'an', 'even', 'with', 'the', 'book', 'and', 'a', 'friend', 'and', 'we', 'were', 'in', 'hyster', 'read', 'bit', 'and', 'piec', 'of', 'it', 'to', 'one', 'anoth', '.', 'it', 'is', 'most', 'definit', 'bad', 'enough', 'to', 'be', 'enter', 'into', 'some', 'kind', 'of', 'a', '``', 'worst', 'book', \"''\", 'contest', '.', 'i', 'ca', \"n't\", 'believ', 'amazon', 'even', 'sell', 'this', 'kind', 'of', 'thing', '.', 'mayb', 'i', 'can', 'offer', 'them', 'my', '8th', 'grade', 'term', 'paper', 'on', '``', 'to', 'kill', 'a', 'mockingbird', \"''\", '--', 'a', 'book', 'i', 'am', 'quit', 'sure', 'ms.', 'haddon', 'never', 'heard', 'of', '.', 'anyway', ',', 'unless', 'you', 'are', 'in', 'a', 'mood', 'to', 'send', 'a', 'book', 'to', 'someon', 'a', 'a', 'joke', '--', '-stay', 'far', ',', 'far', 'away', 'from', 'this', 'one', '!'], ['i', 'wa', 'a', 'dissapoint', 'to', 'see', 'error', 'on', 'the', 'back', 'cover', ',', 'but', 'sinc', 'i', 'paid', 'for', 'the', 'book', 'i', 'read', 'it', 'anyway', '.', 'i', 'have', 'to', 'say', 'i', 'love', 'it', '.', 'i', 'could', \"n't\", 'put', 'it', 'down', '.', 'i', 'read', 'the', 'whole', 'book', 'in', 'two', 'hour', '.', 'i', 'say', 'buy', 'it', '.', 'i', 'say', 'read', 'it', '.', 'it', 'is', 'sad', ',', 'but', 'it', 'give', 'an', 'interest', 'point', 'of', 'view', 'on', 'church', 'today', '.', 'we', 'spend', 'too', 'much', 'time', 'look', 'at', 'the', 'fault', 'of', 'other', '.', 'i', 'also', 'enjoy', 'beloved.sinc', ',', 'jaylynn', 'r'], ['a', 'complet', 'wast', 'of', 'time', '.', 'typograph', 'error', ',', 'poor', 'grammar', ',', 'and', 'a', 'total', 'pathet', 'plot', 'add', 'up', 'to', 'absolut', 'noth', '.', 'i', \"'m\", 'embarrass', 'for', 'this', 'author', 'and', 'veri', 'disappoint', 'i', 'actual', 'paid', 'for', 'this', 'book', '.'], ['i', 'guess', 'you', 'have', 'to', 'be', 'a', 'romanc', 'novel', 'lover', 'for', 'this', 'one', ',', 'and', 'not', 'a', 'veri', 'discern', 'one', '.', 'all', 'other', 'bewar', '!', 'it', 'is', 'absolut', 'drivel', '.', 'i', 'figur', 'i', 'wa', 'in', 'troubl', 'when', 'a', 'typo', 'is', 'promin', 'featur', 'on', 'the', 'back', 'cover', ',', 'but', 'the', 'first', 'page', 'of', 'the', 'book', 'remov', 'all', 'doubt', '.', 'wait', '-', 'mayb', 'i', \"'m\", 'miss', 'the', 'point', '.', 'a', 'quick', 're-read', 'of', 'the', 'begin', 'now', 'make', 'it', 'clear', '.', 'this', 'ha', 'to', 'be', 'an', 'intent', 'churn', 'of', 'over-h', 'prose', 'for', 'satir', 'purpos', '.', 'phew', ',', 'so', 'glad', 'i', 'did', \"n't\", 'wast', '$', '10.95', 'after', 'all', '.']]\n"
     ]
    }
   ],
   "source": [
    "from nltk.stem.snowball import SnowballStemmer\n",
    "stemmer = SnowballStemmer(\"english\")\n",
    "\n",
    "stem_array = []\n",
    "for item in lemm_array:\n",
    "    new_stem = [ stemmer.stem(word) for word in item ]\n",
    "    stem_array.append(new_stem)\n",
    "print(stem_array)"
   ]
  },
  {
   "cell_type": "code",
   "execution_count": 51,
   "metadata": {},
   "outputs": [
    {
     "name": "stdout",
     "output_type": "stream",
     "text": [
      "[['gave', 'dad', 'gag', 'gift', 'direct', '``', 'nunsens', ',', \"''\", 'got', 'reall', 'kick', '!'], ['hope', 'lot', 'peopl', 'hear', 'cd', '.', 'need', 'strong', 'posit', 'vibe', 'like', '.', 'great', 'vocal', ',', 'fresh', 'tune', ',', 'cross-cultur', 'happi', '.', 'blue', 'gut', '.', 'pop', 'sound', 'catchi', 'matur', '.'], [\"'m\", 'read', 'lot', 'review', 'say', 'best', 'game', 'soundtrack', \"'\", 'figur', \"'d\", 'write', 'review', 'disagre', 'bit', '.', 'opinino', 'yasunori', 'mitsuda', \"'s\", 'ultim', 'masterpiec', '.', 'music', 'timeless', \"'m\", 'listen', 'year', 'beauti', 'simpli', 'refus', 'fade.th', 'price', 'tag', 'pretti', 'stagger', 'must', 'say', ',', 'go', 'buy', 'ani', 'cd', 'much', 'money', ',', 'onli', 'one', 'feel', 'would', 'worth', 'everi', 'penni', '.'], ['music', 'yasunori', 'misuda', 'without', 'question', 'close', 'second', 'great', 'nobuo', 'uematsu.chrono', 'cross', 'ost', 'wonder', 'creation', 'fill', 'rich', 'orchestra', 'synthes', 'sound', '.', 'ambianc', 'one', 'music', \"'s\", 'major', 'factor', ',', 'yet', 'time', \"'s\", 'veri', 'uplift', 'vigor', '.', 'favourit', 'track', 'includ', ';', '``', 'scar', 'left', 'time', ',', 'girl', 'stole', 'star', ',', 'anoth', 'world', \"''\", '.'], ['probabl', 'greatest', 'soundtrack', 'histori', '!', 'usual', \"'s\", 'better', 'play', 'game', 'first', 'enjoy', 'anyway', '!', 'work', 'hard', 'get', 'soundtrack', 'spend', '[', 'money', ']', 'get', 'wa', 'realli', 'worth', 'everi', 'penni', '!', '!', 'get', 'ost', '!', \"'s\", 'amaz', '!', 'first', 'track', 'danc', 'around', 'delight', '(', 'especi', 'scar', 'left', 'time', ')', '!', '!', 'buy', '!', '!'], [\"'s\", 'reason', 'cd', 'expens', ',', 'even', 'version', \"'s\", 'import.som', 'best', 'music', 'ever', '.', 'could', 'listen', 'everi', 'track', 'everi', 'minut', 'everi', 'day', '.', \"'s\", 'say', '.'], ['self-publish', 'book', ',', 'want', 'know', 'whi', '--', 'read', 'paragraph', '!', '5', 'star', 'review', 'must', 'written', 'ms.', 'haddon', \"'s\", 'famili', 'friend', '--', 'perhap', ',', '!', 'ca', \"n't\", 'imagin', 'anyon', 'read', 'whole', 'thing', '--', 'spent', 'even', 'book', 'friend', 'hyster', 'read', 'bit', 'piec', 'one', 'anoth', '.', 'definit', 'bad', 'enough', 'enter', 'kind', '``', 'worst', 'book', \"''\", 'contest', '.', 'ca', \"n't\", 'believ', 'amazon', 'even', 'sell', 'kind', 'thing', '.', 'mayb', 'offer', '8th', 'grade', 'term', 'paper', '``', 'kill', 'mockingbird', \"''\", '--', 'book', 'quit', 'sure', 'ms.', 'haddon', 'never', 'heard', '.', 'anyway', ',', 'unless', 'mood', 'send', 'book', 'someon', 'joke', '--', '-stay', 'far', ',', 'far', 'away', 'one', '!'], ['wa', 'dissapoint', 'see', 'error', 'back', 'cover', ',', 'sinc', 'paid', 'book', 'read', 'anyway', '.', 'say', 'love', '.', 'could', \"n't\", 'put', '.', 'read', 'whole', 'book', 'two', 'hour', '.', 'say', 'buy', '.', 'say', 'read', '.', 'sad', ',', 'give', 'interest', 'point', 'view', 'church', 'today', '.', 'spend', 'much', 'time', 'look', 'fault', '.', 'also', 'enjoy', 'beloved.sinc', ',', 'jaylynn', 'r'], ['complet', 'wast', 'time', '.', 'typograph', 'error', ',', 'poor', 'grammar', ',', 'total', 'pathet', 'plot', 'add', 'absolut', 'noth', '.', \"'m\", 'embarrass', 'author', 'veri', 'disappoint', 'actual', 'paid', 'book', '.'], ['guess', 'romanc', 'novel', 'lover', 'one', ',', 'veri', 'discern', 'one', '.', 'bewar', '!', 'absolut', 'drivel', '.', 'figur', 'wa', 'troubl', 'typo', 'promin', 'featur', 'back', 'cover', ',', 'first', 'page', 'book', 'remov', 'doubt', '.', 'wait', '-', 'mayb', \"'m\", 'miss', 'point', '.', 'quick', 're-read', 'begin', 'make', 'clear', '.', 'ha', 'intent', 'churn', 'over-h', 'prose', 'satir', 'purpos', '.', 'phew', ',', 'glad', \"n't\", 'wast', '$', '10.95', '.']]\n"
     ]
    }
   ],
   "source": [
    "from nltk.corpus import stopwords\n",
    "stop_words = set(stopwords.words('english'))\n",
    "\n",
    "new_array = []\n",
    "for item in stem_array:\n",
    "    new_review = [word for word in item if word not in stop_words]\n",
    "    new_array.append(new_review)\n",
    "print(new_array)\n",
    "#     for word in item:\n",
    "#         if word not in stop_words:\n",
    "#             print(word)\n",
    "# [w for w in trainData.head(10) if w not in stop_words]"
   ]
  },
  {
   "cell_type": "code",
   "execution_count": 57,
   "metadata": {},
   "outputs": [],
   "source": [
    "# trainData.append(pd.DataFrame({\"newColumn\": new_array}), ignore_index = True)\n",
    "# trainData.join(pd.DataFrame({\"newColumn\": new_array}), )\n",
    "trainData['newColumn'] = pd.DataFrame({\"newColumn\": new_array})"
   ]
  },
  {
   "cell_type": "code",
   "execution_count": 58,
   "metadata": {},
   "outputs": [
    {
     "data": {
      "text/html": [
       "<div>\n",
       "<style scoped>\n",
       "    .dataframe tbody tr th:only-of-type {\n",
       "        vertical-align: middle;\n",
       "    }\n",
       "\n",
       "    .dataframe tbody tr th {\n",
       "        vertical-align: top;\n",
       "    }\n",
       "\n",
       "    .dataframe thead th {\n",
       "        text-align: right;\n",
       "    }\n",
       "</style>\n",
       "<table border=\"1\" class=\"dataframe\">\n",
       "  <thead>\n",
       "    <tr style=\"text-align: right;\">\n",
       "      <th></th>\n",
       "      <th>rating</th>\n",
       "      <th>title</th>\n",
       "      <th>review</th>\n",
       "      <th>newColumn</th>\n",
       "    </tr>\n",
       "  </thead>\n",
       "  <tbody>\n",
       "    <tr>\n",
       "      <th>0</th>\n",
       "      <td>3</td>\n",
       "      <td>more like funchuck</td>\n",
       "      <td>Gave this to my dad for a gag gift after direc...</td>\n",
       "      <td>[gave, dad, gag, gift, direct, ``, nunsens, ,,...</td>\n",
       "    </tr>\n",
       "    <tr>\n",
       "      <th>1</th>\n",
       "      <td>5</td>\n",
       "      <td>Inspiring</td>\n",
       "      <td>I hope a lot of people hear this cd. We need m...</td>\n",
       "      <td>[hope, lot, peopl, hear, cd, ., need, strong, ...</td>\n",
       "    </tr>\n",
       "    <tr>\n",
       "      <th>2</th>\n",
       "      <td>5</td>\n",
       "      <td>The best soundtrack ever to anything.</td>\n",
       "      <td>I'm reading a lot of reviews saying that this ...</td>\n",
       "      <td>['m, read, lot, review, say, best, game, sound...</td>\n",
       "    </tr>\n",
       "    <tr>\n",
       "      <th>3</th>\n",
       "      <td>4</td>\n",
       "      <td>Chrono Cross OST</td>\n",
       "      <td>The music of Yasunori Misuda is without questi...</td>\n",
       "      <td>[music, yasunori, misuda, without, question, c...</td>\n",
       "    </tr>\n",
       "    <tr>\n",
       "      <th>4</th>\n",
       "      <td>5</td>\n",
       "      <td>Too good to be true</td>\n",
       "      <td>Probably the greatest soundtrack in history! U...</td>\n",
       "      <td>[probabl, greatest, soundtrack, histori, !, us...</td>\n",
       "    </tr>\n",
       "    <tr>\n",
       "      <th>5</th>\n",
       "      <td>5</td>\n",
       "      <td>There's a reason for the price</td>\n",
       "      <td>There's a reason this CD is so expensive, even...</td>\n",
       "      <td>['s, reason, cd, expens, ,, even, version, 's,...</td>\n",
       "    </tr>\n",
       "    <tr>\n",
       "      <th>6</th>\n",
       "      <td>1</td>\n",
       "      <td>Buyer beware</td>\n",
       "      <td>This is a self-published book, and if you want...</td>\n",
       "      <td>[self-publish, book, ,, want, know, whi, --, r...</td>\n",
       "    </tr>\n",
       "    <tr>\n",
       "      <th>7</th>\n",
       "      <td>4</td>\n",
       "      <td>Errors, but great story</td>\n",
       "      <td>I was a dissapointed to see errors on the back...</td>\n",
       "      <td>[wa, dissapoint, see, error, back, cover, ,, s...</td>\n",
       "    </tr>\n",
       "    <tr>\n",
       "      <th>8</th>\n",
       "      <td>1</td>\n",
       "      <td>The Worst!</td>\n",
       "      <td>A complete waste of time. Typographical errors...</td>\n",
       "      <td>[complet, wast, time, ., typograph, error, ,, ...</td>\n",
       "    </tr>\n",
       "    <tr>\n",
       "      <th>9</th>\n",
       "      <td>1</td>\n",
       "      <td>Oh please</td>\n",
       "      <td>I guess you have to be a romance novel lover f...</td>\n",
       "      <td>[guess, romanc, novel, lover, one, ,, veri, di...</td>\n",
       "    </tr>\n",
       "  </tbody>\n",
       "</table>\n",
       "</div>"
      ],
      "text/plain": [
       "   rating                                  title  \\\n",
       "0       3                     more like funchuck   \n",
       "1       5                              Inspiring   \n",
       "2       5  The best soundtrack ever to anything.   \n",
       "3       4                       Chrono Cross OST   \n",
       "4       5                    Too good to be true   \n",
       "5       5         There's a reason for the price   \n",
       "6       1                           Buyer beware   \n",
       "7       4                Errors, but great story   \n",
       "8       1                             The Worst!   \n",
       "9       1                              Oh please   \n",
       "\n",
       "                                              review  \\\n",
       "0  Gave this to my dad for a gag gift after direc...   \n",
       "1  I hope a lot of people hear this cd. We need m...   \n",
       "2  I'm reading a lot of reviews saying that this ...   \n",
       "3  The music of Yasunori Misuda is without questi...   \n",
       "4  Probably the greatest soundtrack in history! U...   \n",
       "5  There's a reason this CD is so expensive, even...   \n",
       "6  This is a self-published book, and if you want...   \n",
       "7  I was a dissapointed to see errors on the back...   \n",
       "8  A complete waste of time. Typographical errors...   \n",
       "9  I guess you have to be a romance novel lover f...   \n",
       "\n",
       "                                           newColumn  \n",
       "0  [gave, dad, gag, gift, direct, ``, nunsens, ,,...  \n",
       "1  [hope, lot, peopl, hear, cd, ., need, strong, ...  \n",
       "2  ['m, read, lot, review, say, best, game, sound...  \n",
       "3  [music, yasunori, misuda, without, question, c...  \n",
       "4  [probabl, greatest, soundtrack, histori, !, us...  \n",
       "5  ['s, reason, cd, expens, ,, even, version, 's,...  \n",
       "6  [self-publish, book, ,, want, know, whi, --, r...  \n",
       "7  [wa, dissapoint, see, error, back, cover, ,, s...  \n",
       "8  [complet, wast, time, ., typograph, error, ,, ...  \n",
       "9  [guess, romanc, novel, lover, one, ,, veri, di...  "
      ]
     },
     "execution_count": 58,
     "metadata": {},
     "output_type": "execute_result"
    }
   ],
   "source": [
    "trainData.head(10)"
   ]
  },
  {
   "cell_type": "code",
   "execution_count": null,
   "metadata": {},
   "outputs": [],
   "source": []
  }
 ],
 "metadata": {
  "kernelspec": {
   "display_name": "Python 3",
   "language": "python",
   "name": "python3"
  },
  "language_info": {
   "codemirror_mode": {
    "name": "ipython",
    "version": 3
   },
   "file_extension": ".py",
   "mimetype": "text/x-python",
   "name": "python",
   "nbconvert_exporter": "python",
   "pygments_lexer": "ipython3",
   "version": "3.7.3"
  }
 },
 "nbformat": 4,
 "nbformat_minor": 2
}
